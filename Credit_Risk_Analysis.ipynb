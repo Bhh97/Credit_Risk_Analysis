{
 "cells": [
  {
   "cell_type": "markdown",
   "metadata": {
    "id": "7VM6vS_ANOX_"
   },
   "source": []
  },
  {
   "cell_type": "markdown",
   "metadata": {
    "id": "5pjCmCsANQQ5"
   },
   "source": [
    "###**Set up environment**"
   ]
  },
  {
   "cell_type": "code",
   "execution_count": 26,
   "metadata": {
    "colab": {
     "base_uri": "https://localhost:8080/"
    },
    "id": "XFovvWqtM8w_",
    "outputId": "360e1c51-f839-44ab-90ab-a12b354136ac"
   },
   "outputs": [
    {
     "name": "stdout",
     "output_type": "stream",
     "text": [
      "\u001b[33m\r",
      "0% [Working]\u001b[0m\r",
      "            \r",
      "Hit:1 http://ppa.launchpad.net/c2d4u.team/c2d4u4.0+/ubuntu focal InRelease\n",
      "\u001b[33m\r",
      "0% [Waiting for headers] [Connecting to security.ubuntu.com (91.189.91.38)] [Co\u001b[0m\r",
      "                                                                               \r",
      "Hit:2 http://archive.ubuntu.com/ubuntu focal InRelease\n",
      "\r",
      "                                                                               \r",
      "Get:3 http://archive.ubuntu.com/ubuntu focal-updates InRelease [114 kB]\n",
      "\u001b[33m\r",
      "0% [3 InRelease 15.6 kB/114 kB 14%] [Connecting to security.ubuntu.com (91.189.\u001b[0m\r",
      "                                                                               \r",
      "Hit:4 http://ppa.launchpad.net/cran/libgit2/ubuntu focal InRelease\n",
      "\u001b[33m\r",
      "0% [3 InRelease 15.6 kB/114 kB 14%] [Connecting to security.ubuntu.com (91.189.\u001b[0m\r",
      "                                                                               \r",
      "Hit:5 https://cloud.r-project.org/bin/linux/ubuntu focal-cran40/ InRelease\n",
      "\u001b[33m\r",
      "0% [3 InRelease 15.6 kB/114 kB 14%] [Connecting to security.ubuntu.com (91.189.\u001b[0m\r",
      "                                                                               \r",
      "Hit:6 http://ppa.launchpad.net/deadsnakes/ppa/ubuntu focal InRelease\n",
      "\u001b[33m\r",
      "0% [3 InRelease 83.7 kB/114 kB 74%] [Connecting to security.ubuntu.com (91.189.\u001b[0m\u001b[33m\r",
      "0% [Waiting for headers] [Connecting to security.ubuntu.com (91.189.91.38)] [Co\u001b[0m\r",
      "                                                                               \r",
      "Get:7 http://archive.ubuntu.com/ubuntu focal-backports InRelease [108 kB]\n",
      "\u001b[33m\r",
      "0% [7 InRelease 6,947 B/108 kB 6%] [Connecting to security.ubuntu.com (91.189.9\u001b[0m\r",
      "                                                                               \r",
      "Hit:8 http://ppa.launchpad.net/graphics-drivers/ppa/ubuntu focal InRelease\n",
      "\u001b[33m\r",
      "0% [7 InRelease 88.0 kB/108 kB 81%] [Connecting to security.ubuntu.com (91.189.\u001b[0m\u001b[33m\r",
      "0% [Connecting to security.ubuntu.com (91.189.91.38)] [Connecting to ppa.launch\u001b[0m\r",
      "                                                                               \r",
      "Hit:9 https://developer.download.nvidia.com/compute/cuda/repos/ubuntu2004/x86_64  InRelease\n",
      "\u001b[33m\r",
      "                                                                               \r",
      "0% [Waiting for headers] [Connecting to ppa.launchpad.net (185.125.190.52)]\u001b[0m\r",
      "                                                                           \r",
      "Hit:10 http://ppa.launchpad.net/ubuntugis/ppa/ubuntu focal InRelease\n",
      "Get:11 http://security.ubuntu.com/ubuntu focal-security InRelease [114 kB]\n",
      "Fetched 336 kB in 1s (342 kB/s)\n",
      "Reading package lists... Done\n",
      "Building dependency tree       \n",
      "Reading state information... Done\n",
      "25 packages can be upgraded. Run 'apt list --upgradable' to see them.\n",
      "Requirement already satisfied: pyspark in /usr/local/lib/python3.10/dist-packages (3.4.1)\n",
      "Requirement already satisfied: py4j==0.10.9.7 in /usr/local/lib/python3.10/dist-packages (from pyspark) (0.10.9.7)\n",
      "Requirement already satisfied: py4j in /usr/local/lib/python3.10/dist-packages (0.10.9.7)\n"
     ]
    }
   ],
   "source": [
    "!sudo apt update\n",
    "!apt-get install openjdk-8-jdk-headless -qq > /dev/null\n",
    "!wget -q https://archive.apache.org/dist/spark/spark-3.2.1/spark-3.2.1-bin-hadoop3.2.tgz\n",
    "!tar xf spark-3.2.1-bin-hadoop3.2.tgz\n",
    "!pip install -q findspark\n",
    "!pip install pyspark\n",
    "!pip install py4j"
   ]
  },
  {
   "cell_type": "code",
   "execution_count": 27,
   "metadata": {
    "colab": {
     "base_uri": "https://localhost:8080/",
     "height": 219
    },
    "id": "Y_NPbhVPtrct",
    "outputId": "f73800ac-aecb-4169-b32e-558debd2bdab"
   },
   "outputs": [
    {
     "data": {
      "text/html": [
       "\n",
       "            <div>\n",
       "                <p><b>SparkSession - in-memory</b></p>\n",
       "                \n",
       "        <div>\n",
       "            <p><b>SparkContext</b></p>\n",
       "\n",
       "            <p><a href=\"http://5a98f484904e:4040\">Spark UI</a></p>\n",
       "\n",
       "            <dl>\n",
       "              <dt>Version</dt>\n",
       "                <dd><code>v3.2.1</code></dd>\n",
       "              <dt>Master</dt>\n",
       "                <dd><code>local[*]</code></dd>\n",
       "              <dt>AppName</dt>\n",
       "                <dd><code>Credit Risk Analysis</code></dd>\n",
       "            </dl>\n",
       "        </div>\n",
       "        \n",
       "            </div>\n",
       "        "
      ],
      "text/plain": [
       "<pyspark.sql.session.SparkSession at 0x7fc60c4f7a00>"
      ]
     },
     "execution_count": 27,
     "metadata": {},
     "output_type": "execute_result"
    }
   ],
   "source": [
    "import os\n",
    "import sys\n",
    "os.environ[\"JAVA_HOME\"] = \"/usr/lib/jvm/java-8-openjdk-amd64\"\n",
    "os.environ[\"SPARK_HOME\"] = \"/content/spark-3.2.1-bin-hadoop3.2\"\n",
    "\n",
    "\n",
    "import findspark\n",
    "findspark.init()\n",
    "findspark.find()\n",
    "\n",
    "import pyspark\n",
    "\n",
    "from pyspark.sql import DataFrame, SparkSession\n",
    "from typing import List\n",
    "import pyspark.sql.types as T\n",
    "import pyspark.sql.functions as F\n",
    "\n",
    "spark = SparkSession.builder \\\n",
    "       .appName(\"Credit Risk Analysis\") \\\n",
    "       .config(\"spark.driver.memory\", \"8g\") \\\n",
    "       .config(\"spark.executor.memory\", \"8g\") \\\n",
    "       .getOrCreate()\n",
    "\n",
    "\n",
    "spark"
   ]
  },
  {
   "cell_type": "code",
   "execution_count": 28,
   "metadata": {
    "colab": {
     "base_uri": "https://localhost:8080/"
    },
    "id": "pvApfDnJTq4K",
    "outputId": "26ff6a52-2b3c-465c-87fd-363db25277b9"
   },
   "outputs": [
    {
     "name": "stdout",
     "output_type": "stream",
     "text": [
      "Drive already mounted at /content/drive; to attempt to forcibly remount, call drive.mount(\"/content/drive\", force_remount=True).\n"
     ]
    }
   ],
   "source": [
    "from google.colab import drive\n",
    "drive.mount('/content/drive')"
   ]
  },
  {
   "cell_type": "markdown",
   "metadata": {
    "id": "beqp1s-KVuqa"
   },
   "source": [
    "##**Import Libraries**"
   ]
  },
  {
   "cell_type": "code",
   "execution_count": 52,
   "metadata": {
    "id": "10whTO-bVyV6"
   },
   "outputs": [],
   "source": [
    "from pyspark.sql.functions import count, when, col, isnan, when, count, isnan, to_date, dayofmonth, month, year\n",
    "from pyspark.sql.types import StructType,StructField, DateType\n",
    "from pyspark.ml.feature import StringIndexer, OneHotEncoder, VectorAssembler\n",
    "from pyspark.ml import Pipeline\n",
    "from pyspark.ml.linalg import VectorUDT\n",
    "import pandas as pd\n",
    "from pyspark.ml.classification import LogisticRegression\n",
    "from pyspark.ml.evaluation import MulticlassClassificationEvaluator"
   ]
  },
  {
   "cell_type": "markdown",
   "metadata": {
    "id": "UiZwvRS1Po3K"
   },
   "source": [
    "##**Read in Data**"
   ]
  },
  {
   "cell_type": "code",
   "execution_count": 30,
   "metadata": {
    "id": "0OhSxxV-UC8a"
   },
   "outputs": [],
   "source": [
    "filepath = '/content/drive/My Drive/data.csv'"
   ]
  },
  {
   "cell_type": "code",
   "execution_count": 31,
   "metadata": {
    "id": "j7JRXzh1NYDL"
   },
   "outputs": [],
   "source": [
    "# Define a custom date format\n",
    "dateFormat = \"dd/MM/yyyy\"\n",
    "\n",
    "schema = StructType([\n",
    "  StructField(\"issue_d\", DateType()),\n",
    "  StructField(\"last_pymnt_d\", DateType()),\n",
    "  StructField(\"earliest_cr_line\", DateType()),\n",
    "  StructField(\"last_credit_pull_d\", DateType()),\n",
    "])\n",
    "\n",
    "df = spark.read.csv(filepath, header = True, inferSchema = True, dateFormat=dateFormat)"
   ]
  },
  {
   "cell_type": "markdown",
   "metadata": {
    "id": "rHffNW_PP8-d"
   },
   "source": [
    "##**Exploratory Data Analysis**"
   ]
  },
  {
   "cell_type": "code",
   "execution_count": 32,
   "metadata": {
    "colab": {
     "base_uri": "https://localhost:8080/"
    },
    "id": "xA2LK4DtNldV",
    "outputId": "f4453529-f99b-4089-c852-277963e72e3e"
   },
   "outputs": [
    {
     "name": "stdout",
     "output_type": "stream",
     "text": [
      "root\n",
      " |-- id: integer (nullable = true)\n",
      " |-- member_id: integer (nullable = true)\n",
      " |-- loan_amnt: integer (nullable = true)\n",
      " |-- funded_amnt: integer (nullable = true)\n",
      " |-- funded_amnt_inv: double (nullable = true)\n",
      " |-- term: string (nullable = true)\n",
      " |-- int_rate: double (nullable = true)\n",
      " |-- installment: double (nullable = true)\n",
      " |-- grade: string (nullable = true)\n",
      " |-- sub_grade: string (nullable = true)\n",
      " |-- emp_title: string (nullable = true)\n",
      " |-- emp_length: string (nullable = true)\n",
      " |-- home_ownership: string (nullable = true)\n",
      " |-- annual_inc: string (nullable = true)\n",
      " |-- verification_status: string (nullable = true)\n",
      " |-- issue_d: string (nullable = true)\n",
      " |-- pymnt_plan: string (nullable = true)\n",
      " |-- desc: string (nullable = true)\n",
      " |-- purpose: string (nullable = true)\n",
      " |-- title: string (nullable = true)\n",
      " |-- zip_code: string (nullable = true)\n",
      " |-- addr_state: string (nullable = true)\n",
      " |-- dti: string (nullable = true)\n",
      " |-- delinq_2yrs: string (nullable = true)\n",
      " |-- earliest_cr_line: string (nullable = true)\n",
      " |-- inq_last_6mths: string (nullable = true)\n",
      " |-- mths_since_last_delinq: string (nullable = true)\n",
      " |-- mths_since_last_record: string (nullable = true)\n",
      " |-- open_acc: string (nullable = true)\n",
      " |-- pub_rec: string (nullable = true)\n",
      " |-- revol_bal: string (nullable = true)\n",
      " |-- revol_util: string (nullable = true)\n",
      " |-- total_acc: string (nullable = true)\n",
      " |-- initial_list_status: string (nullable = true)\n",
      " |-- out_prncp: string (nullable = true)\n",
      " |-- out_prncp_inv: string (nullable = true)\n",
      " |-- total_pymnt: string (nullable = true)\n",
      " |-- total_pymnt_inv: string (nullable = true)\n",
      " |-- total_rec_prncp: string (nullable = true)\n",
      " |-- total_rec_int: string (nullable = true)\n",
      " |-- total_rec_late_fee: string (nullable = true)\n",
      " |-- recoveries: string (nullable = true)\n",
      " |-- collection_recovery_fee: string (nullable = true)\n",
      " |-- last_pymnt_d: string (nullable = true)\n",
      " |-- last_pymnt_amnt: string (nullable = true)\n",
      " |-- next_pymnt_d: string (nullable = true)\n",
      " |-- last_credit_pull_d: string (nullable = true)\n",
      " |-- collections_12_mths_ex_med: string (nullable = true)\n",
      " |-- mths_since_last_major_derog: string (nullable = true)\n",
      " |-- policy_code: string (nullable = true)\n",
      " |-- application_type: string (nullable = true)\n",
      " |-- annual_inc_joint: string (nullable = true)\n",
      " |-- dti_joint: string (nullable = true)\n",
      " |-- verification_status_joint: string (nullable = true)\n",
      " |-- acc_now_delinq: string (nullable = true)\n",
      " |-- tot_coll_amt: string (nullable = true)\n",
      " |-- tot_cur_bal: string (nullable = true)\n",
      " |-- open_acc_6m: string (nullable = true)\n",
      " |-- open_il_6m: string (nullable = true)\n",
      " |-- open_il_12m: string (nullable = true)\n",
      " |-- open_il_24m: string (nullable = true)\n",
      " |-- mths_since_rcnt_il: string (nullable = true)\n",
      " |-- total_bal_il: string (nullable = true)\n",
      " |-- il_util: string (nullable = true)\n",
      " |-- open_rv_12m: string (nullable = true)\n",
      " |-- open_rv_24m: string (nullable = true)\n",
      " |-- max_bal_bc: string (nullable = true)\n",
      " |-- all_util: string (nullable = true)\n",
      " |-- total_rev_hi_lim: string (nullable = true)\n",
      " |-- inq_fi: string (nullable = true)\n",
      " |-- total_cu_tl: string (nullable = true)\n",
      " |-- inq_last_12m: integer (nullable = true)\n",
      " |-- default_ind: integer (nullable = true)\n",
      "\n"
     ]
    }
   ],
   "source": [
    "df.printSchema()"
   ]
  },
  {
   "cell_type": "code",
   "execution_count": 33,
   "metadata": {
    "colab": {
     "base_uri": "https://localhost:8080/"
    },
    "id": "uNmpyxokQDVA",
    "outputId": "9ddcf38b-a012-4943-b18a-7794afd3f08f"
   },
   "outputs": [
    {
     "name": "stdout",
     "output_type": "stream",
     "text": [
      "+-------+--------------------+--------------------+------------------+------------------+------------------+----------+------------------+------------------+------+---------+--------------------+----------+--------------+-----------------+-------------------+---------------+----------+--------------------+--------------------+--------------------+--------------------+--------------------+------------------+------------------+------------------+------------------+----------------------+----------------------+------------------+--------------------+--------------------+--------------------+--------------------+--------------------+-----------------+--------------------+-----------------+--------------------+--------------------+------------------+--------------------+------------------+-----------------------+------------------+------------------+------------------+------------------+--------------------------+---------------------------+------------------+-----------------+-----------------+------------------+-------------------------+-------------------+------------------+------------------+------------------+------------------+------------------+-----------------+------------------+-----------------+-----------------+------------------+------------------+-----------------+------------------+------------------+------------------+------------------+------------------+-------------------+\n",
      "|summary|                  id|           member_id|         loan_amnt|       funded_amnt|   funded_amnt_inv|      term|          int_rate|       installment| grade|sub_grade|           emp_title|emp_length|home_ownership|       annual_inc|verification_status|        issue_d|pymnt_plan|                desc|             purpose|               title|            zip_code|          addr_state|               dti|       delinq_2yrs|  earliest_cr_line|    inq_last_6mths|mths_since_last_delinq|mths_since_last_record|          open_acc|             pub_rec|           revol_bal|          revol_util|           total_acc| initial_list_status|        out_prncp|       out_prncp_inv|      total_pymnt|     total_pymnt_inv|     total_rec_prncp|     total_rec_int|  total_rec_late_fee|        recoveries|collection_recovery_fee|      last_pymnt_d|   last_pymnt_amnt|      next_pymnt_d|last_credit_pull_d|collections_12_mths_ex_med|mths_since_last_major_derog|       policy_code| application_type| annual_inc_joint|         dti_joint|verification_status_joint|     acc_now_delinq|      tot_coll_amt|       tot_cur_bal|       open_acc_6m|        open_il_6m|       open_il_12m|      open_il_24m|mths_since_rcnt_il|     total_bal_il|          il_util|       open_rv_12m|       open_rv_24m|       max_bal_bc|          all_util|  total_rev_hi_lim|            inq_fi|       total_cu_tl|      inq_last_12m|        default_ind|\n",
      "+-------+--------------------+--------------------+------------------+------------------+------------------+----------+------------------+------------------+------+---------+--------------------+----------+--------------+-----------------+-------------------+---------------+----------+--------------------+--------------------+--------------------+--------------------+--------------------+------------------+------------------+------------------+------------------+----------------------+----------------------+------------------+--------------------+--------------------+--------------------+--------------------+--------------------+-----------------+--------------------+-----------------+--------------------+--------------------+------------------+--------------------+------------------+-----------------------+------------------+------------------+------------------+------------------+--------------------------+---------------------------+------------------+-----------------+-----------------+------------------+-------------------------+-------------------+------------------+------------------+------------------+------------------+------------------+-----------------+------------------+-----------------+-----------------+------------------+------------------+-----------------+------------------+------------------+------------------+------------------+------------------+-------------------+\n",
      "|  count|              855969|              855969|            855969|            855969|            855969|    855969|            855969|            855969|855969|   855969|              806530|    855969|        855969|           855969|             855969|         855969|    855969|              121814|              855968|              855936|              855968|              855968|            855968|            855968|            855968|            855968|                416300|                131356|            855897|              855912|              855922|              855494|              855952|              855955|           855954|              855948|           855957|              855959|              855960|            855966|              855966|            855967|                 855964|            847100|            855966|            603218|            855867|                    855870|                     213332|            855897|           855912|              626|               587|                      551|             855826|            788771|            788745|             13369|             13353|             13331|            13322|             12959|            13314|            11632|             13299|             13305|            13301|             13294|            788658|             13293|             13297|             13289|             855746|\n",
      "|   mean|3.2240726286145877E7|3.4762690042003855E7|14745.571334943204|14732.378304588134|14700.061225999756|      null|13.192319605055827| 436.2380718344112|  null|     null|1.2810941556818182E7|      null|          null|75071.22927176002|            38000.0|           null|      null|                null|               384.0|            Infinity|                 0.0|                null|18.123810127573403|0.3123480678154647|26.896086956521735|0.6822168381595152|    34.142634058902544|     70.42372760102394| 11.54296815097585|  0.1960765625712012|   16908.69626299838|   55.91715695820985|  25.968200584869795|  2263.0536559139778| 8285.89549835517|   8282.436991670364|7650.628777464625|   7620.439186803648|   5849.749878239475|1756.4741183920426|  1.7748607324743964| 48.21955402103537|      5.620354049139619|1976.5201959016651|2225.9697361985486|2717.9857799171273|3367.8102573918713|       0.38861753160172524|          45.53334005049339|1.1955796674413361|720.6995652173914|86393.42756045342|255.30688804554083|        2319.298032786885|0.10623780751160922| 225.4549463071762|139753.06323234446| 18.59975509286998|3.5713591723517504|1.5689154273696861|2.734639128802103| 22.10486448922863|36465.59811198797|71.37272508384228|1.4044558923065353|2.9427202345159347|5838.685826060789|61.009643421349395|32163.519162322784|1.8130173062452972| 1.523315282791817|1.8418240650161788|0.05426376518265934|\n",
      "| stddev|2.2719691565777678E7| 2.399417679681356E7| 8425.340005005204| 8419.471653319737| 8425.805478470169|      null| 4.368365181701446|243.72687616798578|  null|     null|  8.34575692812245E7|      null|          null|64264.49486103645|               null|           null|      null|                null|   543.0580079512685|                 NaN|                null|                null|17.425265176637534|0.8637496886299738|209.15285346366267|1.3034984573776172|    21.871669441275337|     27.86358828124207|5.3120462644240565|  0.6343819932768587|  22224.042643877146|   179.7016450953392|   163.6776277696635|   7051.063987047671|8462.087431679473|    8458.62393772719|7909.012728877155|    7885.00474480922|   6676.542304929754| 2093.289304829823|  154.32649175739448|433.81372107990103|     116.56184154389102| 4954.840516380205| 4865.299583611445| 5349.237639779675| 6331.137195930885|         74.56147279197249|          215.3908396117096| 50.03794040401378|2933.559501651738|60512.88057230068|1608.7839691240242|        4688.120511662365|  31.29304993111533|10488.878812417901|153937.30659434243|1911.5780476942048| 69.40644079814113|60.390178110053284| 68.7627527866157| 109.9153258487779|42485.05760864883|23.17729877069355| 4.432960390363493| 2.595224748408899|5108.735931018706|20.038139706725396| 37699.64159437814| 99.75735040533151|2.6970485485871754| 2.974979879227414|0.22653756629105157|\n",
      "|    min|               54734|               70699|               500|               500|               0.0| 36 months|              5.32|             15.69|     A|       A1| \\tAdv Mtr Proj F...| reactors\"|       2 years|                0|              38000|     01-01-2008|01-10-2015|\\t Loan for purch...|      After gradu...|       \\tcredit_card| \"\"set it and for...| American women u...|       Karen     \"|          BEST BUY|           Mike  \"|               809|   Capital One ($27...|    I am currently ...|           Carlos\"| I plan on elimin...| I'm sure)!!  Ple...| #450216.<br/> 55...| and the work we ...| I am working on ...|    I mean.<br/>\"| and I pay her tu...|     and opinions| extremely rare t...| I need to hit th...|             of $2| and continue to ...|                 0|                      0|                 0|                 0|                 0|                 0|                         0|                          0|                 0|                0|                0|                 0|                        0|                  0|                 0|                 0|                 0|                 0|                 0|                0|                 0|                0|                0|                 0|                 0|                0|                 0|                 0|                 0|                 0|                -4|                  0|\n",
      "|    max|            68616867|            73519693|             35000|             35000|           35000.0| 60 months|             28.99|           1445.46|     G|       G5|â€‹License Compli...|       n/a|          RENT|         MORTGAGE|           Verified|Source Verified|         y|~20K total in med...|             wedding|Ã®ÂÂ—Ã®ÂÂ—MY FI...|      small_business|             wedding|           wedding|    small_business|    small_business|    small_business|      stupid decisions|        small_business|  home_improvement|    home_improvement|  debt_consolidation|              moving|      small_business|                   w|   small_business|               other|                f|savy debt consoli...|                   f|                 f|                   f|    small_business|   xperienceddebtorq...|                 f|                 f|                 f|                 f|                         f|                         99|                 f|                f|                f|                 f|                        f|         INDIVIDUAL|        INDIVIDUAL|                 f|        INDIVIDUAL|        INDIVIDUAL|        INDIVIDUAL|       INDIVIDUAL|        INDIVIDUAL|       INDIVIDUAL|       INDIVIDUAL|        INDIVIDUAL|                 9|       INDIVIDUAL|        INDIVIDUAL|        INDIVIDUAL|        INDIVIDUAL|        INDIVIDUAL|                32|                  1|\n",
      "+-------+--------------------+--------------------+------------------+------------------+------------------+----------+------------------+------------------+------+---------+--------------------+----------+--------------+-----------------+-------------------+---------------+----------+--------------------+--------------------+--------------------+--------------------+--------------------+------------------+------------------+------------------+------------------+----------------------+----------------------+------------------+--------------------+--------------------+--------------------+--------------------+--------------------+-----------------+--------------------+-----------------+--------------------+--------------------+------------------+--------------------+------------------+-----------------------+------------------+------------------+------------------+------------------+--------------------------+---------------------------+------------------+-----------------+-----------------+------------------+-------------------------+-------------------+------------------+------------------+------------------+------------------+------------------+-----------------+------------------+-----------------+-----------------+------------------+------------------+-----------------+------------------+------------------+------------------+------------------+------------------+-------------------+\n",
      "\n"
     ]
    }
   ],
   "source": [
    "df.describe().show()"
   ]
  },
  {
   "cell_type": "code",
   "execution_count": 34,
   "metadata": {
    "colab": {
     "base_uri": "https://localhost:8080/"
    },
    "id": "2IX6aribQKTp",
    "outputId": "2cd564e5-9410-4317-eb4c-e5991dbc1f0d"
   },
   "outputs": [
    {
     "name": "stdout",
     "output_type": "stream",
     "text": [
      "-RECORD 0-----------------------------\n",
      " id                          | 0      \n",
      " member_id                   | 0      \n",
      " loan_amnt                   | 0      \n",
      " funded_amnt                 | 0      \n",
      " funded_amnt_inv             | 0      \n",
      " term                        | 0      \n",
      " int_rate                    | 0      \n",
      " installment                 | 0      \n",
      " grade                       | 0      \n",
      " sub_grade                   | 0      \n",
      " emp_title                   | 49439  \n",
      " emp_length                  | 0      \n",
      " home_ownership              | 0      \n",
      " annual_inc                  | 0      \n",
      " verification_status         | 0      \n",
      " issue_d                     | 0      \n",
      " pymnt_plan                  | 0      \n",
      " desc                        | 734155 \n",
      " purpose                     | 1      \n",
      " title                       | 33     \n",
      " zip_code                    | 1      \n",
      " addr_state                  | 1      \n",
      " dti                         | 1      \n",
      " delinq_2yrs                 | 1      \n",
      " earliest_cr_line            | 1      \n",
      " inq_last_6mths              | 1      \n",
      " mths_since_last_delinq      | 439669 \n",
      " mths_since_last_record      | 724613 \n",
      " open_acc                    | 72     \n",
      " pub_rec                     | 57     \n",
      " revol_bal                   | 47     \n",
      " revol_util                  | 475    \n",
      " total_acc                   | 17     \n",
      " initial_list_status         | 14     \n",
      " out_prncp                   | 15     \n",
      " out_prncp_inv               | 21     \n",
      " total_pymnt                 | 12     \n",
      " total_pymnt_inv             | 10     \n",
      " total_rec_prncp             | 9      \n",
      " total_rec_int               | 3      \n",
      " total_rec_late_fee          | 3      \n",
      " recoveries                  | 2      \n",
      " collection_recovery_fee     | 5      \n",
      " last_pymnt_d                | 8869   \n",
      " last_pymnt_amnt             | 3      \n",
      " next_pymnt_d                | 252751 \n",
      " last_credit_pull_d          | 102    \n",
      " collections_12_mths_ex_med  | 99     \n",
      " mths_since_last_major_derog | 642637 \n",
      " policy_code                 | 72     \n",
      " application_type            | 57     \n",
      " annual_inc_joint            | 855343 \n",
      " dti_joint                   | 855382 \n",
      " verification_status_joint   | 855418 \n",
      " acc_now_delinq              | 143    \n",
      " tot_coll_amt                | 67198  \n",
      " tot_cur_bal                 | 67224  \n",
      " open_acc_6m                 | 842600 \n",
      " open_il_6m                  | 842616 \n",
      " open_il_12m                 | 842638 \n",
      " open_il_24m                 | 842647 \n",
      " mths_since_rcnt_il          | 843010 \n",
      " total_bal_il                | 842655 \n",
      " il_util                     | 844337 \n",
      " open_rv_12m                 | 842670 \n",
      " open_rv_24m                 | 842664 \n",
      " max_bal_bc                  | 842668 \n",
      " all_util                    | 842675 \n",
      " total_rev_hi_lim            | 67311  \n",
      " inq_fi                      | 842676 \n",
      " total_cu_tl                 | 842672 \n",
      " inq_last_12m                | 842680 \n",
      " default_ind                 | 223    \n",
      "\n"
     ]
    }
   ],
   "source": [
    "# Identity missing values and outliers\n",
    "df.select([count(when(col(c).isNull(), c)).alias(c) for c in df.columns]).show(vertical=True)"
   ]
  },
  {
   "cell_type": "code",
   "execution_count": 35,
   "metadata": {
    "colab": {
     "base_uri": "https://localhost:8080/"
    },
    "id": "Aznm57jxXS0Z",
    "outputId": "e08ed1f2-7bf6-49c3-c381-3f08696d6527"
   },
   "outputs": [
    {
     "data": {
      "text/plain": [
       "['id',\n",
       " 'member_id',\n",
       " 'loan_amnt',\n",
       " 'funded_amnt',\n",
       " 'funded_amnt_inv',\n",
       " 'term',\n",
       " 'int_rate',\n",
       " 'installment',\n",
       " 'grade',\n",
       " 'sub_grade',\n",
       " 'emp_title',\n",
       " 'emp_length',\n",
       " 'home_ownership',\n",
       " 'annual_inc',\n",
       " 'verification_status',\n",
       " 'issue_d',\n",
       " 'pymnt_plan',\n",
       " 'desc',\n",
       " 'purpose',\n",
       " 'title',\n",
       " 'zip_code',\n",
       " 'addr_state',\n",
       " 'dti',\n",
       " 'delinq_2yrs',\n",
       " 'earliest_cr_line',\n",
       " 'inq_last_6mths',\n",
       " 'mths_since_last_delinq',\n",
       " 'mths_since_last_record',\n",
       " 'open_acc',\n",
       " 'pub_rec',\n",
       " 'revol_bal',\n",
       " 'revol_util',\n",
       " 'total_acc',\n",
       " 'initial_list_status',\n",
       " 'out_prncp',\n",
       " 'out_prncp_inv',\n",
       " 'total_pymnt',\n",
       " 'total_pymnt_inv',\n",
       " 'total_rec_prncp',\n",
       " 'total_rec_int',\n",
       " 'total_rec_late_fee',\n",
       " 'recoveries',\n",
       " 'collection_recovery_fee',\n",
       " 'last_pymnt_d',\n",
       " 'last_pymnt_amnt',\n",
       " 'next_pymnt_d',\n",
       " 'last_credit_pull_d',\n",
       " 'collections_12_mths_ex_med',\n",
       " 'mths_since_last_major_derog',\n",
       " 'policy_code',\n",
       " 'application_type',\n",
       " 'annual_inc_joint',\n",
       " 'dti_joint',\n",
       " 'verification_status_joint',\n",
       " 'acc_now_delinq',\n",
       " 'tot_coll_amt',\n",
       " 'tot_cur_bal',\n",
       " 'open_acc_6m',\n",
       " 'open_il_6m',\n",
       " 'open_il_12m',\n",
       " 'open_il_24m',\n",
       " 'mths_since_rcnt_il',\n",
       " 'total_bal_il',\n",
       " 'il_util',\n",
       " 'open_rv_12m',\n",
       " 'open_rv_24m',\n",
       " 'max_bal_bc',\n",
       " 'all_util',\n",
       " 'total_rev_hi_lim',\n",
       " 'inq_fi',\n",
       " 'total_cu_tl',\n",
       " 'inq_last_12m',\n",
       " 'default_ind']"
      ]
     },
     "execution_count": 35,
     "metadata": {},
     "output_type": "execute_result"
    }
   ],
   "source": [
    "df.columns"
   ]
  },
  {
   "cell_type": "code",
   "execution_count": 36,
   "metadata": {
    "id": "b-NGWjdKXCIr"
   },
   "outputs": [],
   "source": [
    "# Drop columns which I think is unnecessary after checking the data dictionary\n",
    "df = df.drop('id','member_id','desc','emp_length','emp_title','title','zip_code','addr_state')"
   ]
  },
  {
   "cell_type": "markdown",
   "metadata": {
    "id": "wSJt8-NgY2tC"
   },
   "source": [
    "#### Show percentage of missing values for each column"
   ]
  },
  {
   "cell_type": "code",
   "execution_count": 37,
   "metadata": {
    "colab": {
     "base_uri": "https://localhost:8080/",
     "height": 101
    },
    "id": "dpUhL9xCQZxL",
    "outputId": "b0612d8d-c026-4dc0-d953-ae74846541dc"
   },
   "outputs": [
    {
     "data": {
      "text/html": [
       "<style type=\"text/css\">\n",
       "#T_4ad3f_row0_col0, #T_4ad3f_row0_col1, #T_4ad3f_row0_col2, #T_4ad3f_row0_col3, #T_4ad3f_row0_col4, #T_4ad3f_row0_col5, #T_4ad3f_row0_col6, #T_4ad3f_row0_col7, #T_4ad3f_row0_col8, #T_4ad3f_row0_col9, #T_4ad3f_row0_col10, #T_4ad3f_row0_col11, #T_4ad3f_row0_col12, #T_4ad3f_row0_col13, #T_4ad3f_row0_col14, #T_4ad3f_row0_col15, #T_4ad3f_row0_col16, #T_4ad3f_row0_col17, #T_4ad3f_row0_col20, #T_4ad3f_row0_col21, #T_4ad3f_row0_col22, #T_4ad3f_row0_col23, #T_4ad3f_row0_col24, #T_4ad3f_row0_col25, #T_4ad3f_row0_col26, #T_4ad3f_row0_col27, #T_4ad3f_row0_col28, #T_4ad3f_row0_col29, #T_4ad3f_row0_col30, #T_4ad3f_row0_col31, #T_4ad3f_row0_col32, #T_4ad3f_row0_col33, #T_4ad3f_row0_col34, #T_4ad3f_row0_col36, #T_4ad3f_row0_col38, #T_4ad3f_row0_col39, #T_4ad3f_row0_col41, #T_4ad3f_row0_col42, #T_4ad3f_row0_col46, #T_4ad3f_row0_col64 {\n",
       "  background-color: #fff5f0;\n",
       "  color: #000000;\n",
       "}\n",
       "#T_4ad3f_row0_col18 {\n",
       "  background-color: #fa6547;\n",
       "  color: #f1f1f1;\n",
       "}\n",
       "#T_4ad3f_row0_col19 {\n",
       "  background-color: #ad1117;\n",
       "  color: #f1f1f1;\n",
       "}\n",
       "#T_4ad3f_row0_col35 {\n",
       "  background-color: #fff4ee;\n",
       "  color: #000000;\n",
       "}\n",
       "#T_4ad3f_row0_col37 {\n",
       "  background-color: #fcad90;\n",
       "  color: #000000;\n",
       "}\n",
       "#T_4ad3f_row0_col40 {\n",
       "  background-color: #ca181d;\n",
       "  color: #f1f1f1;\n",
       "}\n",
       "#T_4ad3f_row0_col43, #T_4ad3f_row0_col44, #T_4ad3f_row0_col45 {\n",
       "  background-color: #67000d;\n",
       "  color: #f1f1f1;\n",
       "}\n",
       "#T_4ad3f_row0_col47, #T_4ad3f_row0_col48, #T_4ad3f_row0_col60 {\n",
       "  background-color: #fee8dd;\n",
       "  color: #000000;\n",
       "}\n",
       "#T_4ad3f_row0_col49, #T_4ad3f_row0_col50, #T_4ad3f_row0_col51, #T_4ad3f_row0_col52, #T_4ad3f_row0_col53, #T_4ad3f_row0_col54, #T_4ad3f_row0_col55, #T_4ad3f_row0_col56, #T_4ad3f_row0_col57, #T_4ad3f_row0_col58, #T_4ad3f_row0_col59, #T_4ad3f_row0_col61, #T_4ad3f_row0_col62, #T_4ad3f_row0_col63 {\n",
       "  background-color: #6d010e;\n",
       "  color: #f1f1f1;\n",
       "}\n",
       "</style>\n",
       "<table id=\"T_4ad3f\" class=\"dataframe\">\n",
       "  <thead>\n",
       "    <tr>\n",
       "      <th class=\"blank level0\" >&nbsp;</th>\n",
       "      <th id=\"T_4ad3f_level0_col0\" class=\"col_heading level0 col0\" >loan_amnt</th>\n",
       "      <th id=\"T_4ad3f_level0_col1\" class=\"col_heading level0 col1\" >funded_amnt</th>\n",
       "      <th id=\"T_4ad3f_level0_col2\" class=\"col_heading level0 col2\" >funded_amnt_inv</th>\n",
       "      <th id=\"T_4ad3f_level0_col3\" class=\"col_heading level0 col3\" >term</th>\n",
       "      <th id=\"T_4ad3f_level0_col4\" class=\"col_heading level0 col4\" >int_rate</th>\n",
       "      <th id=\"T_4ad3f_level0_col5\" class=\"col_heading level0 col5\" >installment</th>\n",
       "      <th id=\"T_4ad3f_level0_col6\" class=\"col_heading level0 col6\" >grade</th>\n",
       "      <th id=\"T_4ad3f_level0_col7\" class=\"col_heading level0 col7\" >sub_grade</th>\n",
       "      <th id=\"T_4ad3f_level0_col8\" class=\"col_heading level0 col8\" >home_ownership</th>\n",
       "      <th id=\"T_4ad3f_level0_col9\" class=\"col_heading level0 col9\" >annual_inc</th>\n",
       "      <th id=\"T_4ad3f_level0_col10\" class=\"col_heading level0 col10\" >verification_status</th>\n",
       "      <th id=\"T_4ad3f_level0_col11\" class=\"col_heading level0 col11\" >issue_d</th>\n",
       "      <th id=\"T_4ad3f_level0_col12\" class=\"col_heading level0 col12\" >pymnt_plan</th>\n",
       "      <th id=\"T_4ad3f_level0_col13\" class=\"col_heading level0 col13\" >purpose</th>\n",
       "      <th id=\"T_4ad3f_level0_col14\" class=\"col_heading level0 col14\" >dti</th>\n",
       "      <th id=\"T_4ad3f_level0_col15\" class=\"col_heading level0 col15\" >delinq_2yrs</th>\n",
       "      <th id=\"T_4ad3f_level0_col16\" class=\"col_heading level0 col16\" >earliest_cr_line</th>\n",
       "      <th id=\"T_4ad3f_level0_col17\" class=\"col_heading level0 col17\" >inq_last_6mths</th>\n",
       "      <th id=\"T_4ad3f_level0_col18\" class=\"col_heading level0 col18\" >mths_since_last_delinq</th>\n",
       "      <th id=\"T_4ad3f_level0_col19\" class=\"col_heading level0 col19\" >mths_since_last_record</th>\n",
       "      <th id=\"T_4ad3f_level0_col20\" class=\"col_heading level0 col20\" >open_acc</th>\n",
       "      <th id=\"T_4ad3f_level0_col21\" class=\"col_heading level0 col21\" >pub_rec</th>\n",
       "      <th id=\"T_4ad3f_level0_col22\" class=\"col_heading level0 col22\" >revol_bal</th>\n",
       "      <th id=\"T_4ad3f_level0_col23\" class=\"col_heading level0 col23\" >revol_util</th>\n",
       "      <th id=\"T_4ad3f_level0_col24\" class=\"col_heading level0 col24\" >total_acc</th>\n",
       "      <th id=\"T_4ad3f_level0_col25\" class=\"col_heading level0 col25\" >initial_list_status</th>\n",
       "      <th id=\"T_4ad3f_level0_col26\" class=\"col_heading level0 col26\" >out_prncp</th>\n",
       "      <th id=\"T_4ad3f_level0_col27\" class=\"col_heading level0 col27\" >out_prncp_inv</th>\n",
       "      <th id=\"T_4ad3f_level0_col28\" class=\"col_heading level0 col28\" >total_pymnt</th>\n",
       "      <th id=\"T_4ad3f_level0_col29\" class=\"col_heading level0 col29\" >total_pymnt_inv</th>\n",
       "      <th id=\"T_4ad3f_level0_col30\" class=\"col_heading level0 col30\" >total_rec_prncp</th>\n",
       "      <th id=\"T_4ad3f_level0_col31\" class=\"col_heading level0 col31\" >total_rec_int</th>\n",
       "      <th id=\"T_4ad3f_level0_col32\" class=\"col_heading level0 col32\" >total_rec_late_fee</th>\n",
       "      <th id=\"T_4ad3f_level0_col33\" class=\"col_heading level0 col33\" >recoveries</th>\n",
       "      <th id=\"T_4ad3f_level0_col34\" class=\"col_heading level0 col34\" >collection_recovery_fee</th>\n",
       "      <th id=\"T_4ad3f_level0_col35\" class=\"col_heading level0 col35\" >last_pymnt_d</th>\n",
       "      <th id=\"T_4ad3f_level0_col36\" class=\"col_heading level0 col36\" >last_pymnt_amnt</th>\n",
       "      <th id=\"T_4ad3f_level0_col37\" class=\"col_heading level0 col37\" >next_pymnt_d</th>\n",
       "      <th id=\"T_4ad3f_level0_col38\" class=\"col_heading level0 col38\" >last_credit_pull_d</th>\n",
       "      <th id=\"T_4ad3f_level0_col39\" class=\"col_heading level0 col39\" >collections_12_mths_ex_med</th>\n",
       "      <th id=\"T_4ad3f_level0_col40\" class=\"col_heading level0 col40\" >mths_since_last_major_derog</th>\n",
       "      <th id=\"T_4ad3f_level0_col41\" class=\"col_heading level0 col41\" >policy_code</th>\n",
       "      <th id=\"T_4ad3f_level0_col42\" class=\"col_heading level0 col42\" >application_type</th>\n",
       "      <th id=\"T_4ad3f_level0_col43\" class=\"col_heading level0 col43\" >annual_inc_joint</th>\n",
       "      <th id=\"T_4ad3f_level0_col44\" class=\"col_heading level0 col44\" >dti_joint</th>\n",
       "      <th id=\"T_4ad3f_level0_col45\" class=\"col_heading level0 col45\" >verification_status_joint</th>\n",
       "      <th id=\"T_4ad3f_level0_col46\" class=\"col_heading level0 col46\" >acc_now_delinq</th>\n",
       "      <th id=\"T_4ad3f_level0_col47\" class=\"col_heading level0 col47\" >tot_coll_amt</th>\n",
       "      <th id=\"T_4ad3f_level0_col48\" class=\"col_heading level0 col48\" >tot_cur_bal</th>\n",
       "      <th id=\"T_4ad3f_level0_col49\" class=\"col_heading level0 col49\" >open_acc_6m</th>\n",
       "      <th id=\"T_4ad3f_level0_col50\" class=\"col_heading level0 col50\" >open_il_6m</th>\n",
       "      <th id=\"T_4ad3f_level0_col51\" class=\"col_heading level0 col51\" >open_il_12m</th>\n",
       "      <th id=\"T_4ad3f_level0_col52\" class=\"col_heading level0 col52\" >open_il_24m</th>\n",
       "      <th id=\"T_4ad3f_level0_col53\" class=\"col_heading level0 col53\" >mths_since_rcnt_il</th>\n",
       "      <th id=\"T_4ad3f_level0_col54\" class=\"col_heading level0 col54\" >total_bal_il</th>\n",
       "      <th id=\"T_4ad3f_level0_col55\" class=\"col_heading level0 col55\" >il_util</th>\n",
       "      <th id=\"T_4ad3f_level0_col56\" class=\"col_heading level0 col56\" >open_rv_12m</th>\n",
       "      <th id=\"T_4ad3f_level0_col57\" class=\"col_heading level0 col57\" >open_rv_24m</th>\n",
       "      <th id=\"T_4ad3f_level0_col58\" class=\"col_heading level0 col58\" >max_bal_bc</th>\n",
       "      <th id=\"T_4ad3f_level0_col59\" class=\"col_heading level0 col59\" >all_util</th>\n",
       "      <th id=\"T_4ad3f_level0_col60\" class=\"col_heading level0 col60\" >total_rev_hi_lim</th>\n",
       "      <th id=\"T_4ad3f_level0_col61\" class=\"col_heading level0 col61\" >inq_fi</th>\n",
       "      <th id=\"T_4ad3f_level0_col62\" class=\"col_heading level0 col62\" >total_cu_tl</th>\n",
       "      <th id=\"T_4ad3f_level0_col63\" class=\"col_heading level0 col63\" >inq_last_12m</th>\n",
       "      <th id=\"T_4ad3f_level0_col64\" class=\"col_heading level0 col64\" >default_ind</th>\n",
       "    </tr>\n",
       "  </thead>\n",
       "  <tbody>\n",
       "    <tr>\n",
       "      <th id=\"T_4ad3f_level0_row0\" class=\"row_heading level0 row0\" >0</th>\n",
       "      <td id=\"T_4ad3f_row0_col0\" class=\"data row0 col0\" >0.00%</td>\n",
       "      <td id=\"T_4ad3f_row0_col1\" class=\"data row0 col1\" >0.00%</td>\n",
       "      <td id=\"T_4ad3f_row0_col2\" class=\"data row0 col2\" >0.00%</td>\n",
       "      <td id=\"T_4ad3f_row0_col3\" class=\"data row0 col3\" >0.00%</td>\n",
       "      <td id=\"T_4ad3f_row0_col4\" class=\"data row0 col4\" >0.00%</td>\n",
       "      <td id=\"T_4ad3f_row0_col5\" class=\"data row0 col5\" >0.00%</td>\n",
       "      <td id=\"T_4ad3f_row0_col6\" class=\"data row0 col6\" >0.00%</td>\n",
       "      <td id=\"T_4ad3f_row0_col7\" class=\"data row0 col7\" >0.00%</td>\n",
       "      <td id=\"T_4ad3f_row0_col8\" class=\"data row0 col8\" >0.00%</td>\n",
       "      <td id=\"T_4ad3f_row0_col9\" class=\"data row0 col9\" >0.00%</td>\n",
       "      <td id=\"T_4ad3f_row0_col10\" class=\"data row0 col10\" >0.00%</td>\n",
       "      <td id=\"T_4ad3f_row0_col11\" class=\"data row0 col11\" >0.00%</td>\n",
       "      <td id=\"T_4ad3f_row0_col12\" class=\"data row0 col12\" >0.00%</td>\n",
       "      <td id=\"T_4ad3f_row0_col13\" class=\"data row0 col13\" >0.00%</td>\n",
       "      <td id=\"T_4ad3f_row0_col14\" class=\"data row0 col14\" >0.00%</td>\n",
       "      <td id=\"T_4ad3f_row0_col15\" class=\"data row0 col15\" >0.00%</td>\n",
       "      <td id=\"T_4ad3f_row0_col16\" class=\"data row0 col16\" >0.00%</td>\n",
       "      <td id=\"T_4ad3f_row0_col17\" class=\"data row0 col17\" >0.00%</td>\n",
       "      <td id=\"T_4ad3f_row0_col18\" class=\"data row0 col18\" >51.37%</td>\n",
       "      <td id=\"T_4ad3f_row0_col19\" class=\"data row0 col19\" >84.65%</td>\n",
       "      <td id=\"T_4ad3f_row0_col20\" class=\"data row0 col20\" >0.01%</td>\n",
       "      <td id=\"T_4ad3f_row0_col21\" class=\"data row0 col21\" >0.01%</td>\n",
       "      <td id=\"T_4ad3f_row0_col22\" class=\"data row0 col22\" >0.01%</td>\n",
       "      <td id=\"T_4ad3f_row0_col23\" class=\"data row0 col23\" >0.06%</td>\n",
       "      <td id=\"T_4ad3f_row0_col24\" class=\"data row0 col24\" >0.00%</td>\n",
       "      <td id=\"T_4ad3f_row0_col25\" class=\"data row0 col25\" >0.00%</td>\n",
       "      <td id=\"T_4ad3f_row0_col26\" class=\"data row0 col26\" >0.00%</td>\n",
       "      <td id=\"T_4ad3f_row0_col27\" class=\"data row0 col27\" >0.00%</td>\n",
       "      <td id=\"T_4ad3f_row0_col28\" class=\"data row0 col28\" >0.00%</td>\n",
       "      <td id=\"T_4ad3f_row0_col29\" class=\"data row0 col29\" >0.00%</td>\n",
       "      <td id=\"T_4ad3f_row0_col30\" class=\"data row0 col30\" >0.00%</td>\n",
       "      <td id=\"T_4ad3f_row0_col31\" class=\"data row0 col31\" >0.00%</td>\n",
       "      <td id=\"T_4ad3f_row0_col32\" class=\"data row0 col32\" >0.00%</td>\n",
       "      <td id=\"T_4ad3f_row0_col33\" class=\"data row0 col33\" >0.00%</td>\n",
       "      <td id=\"T_4ad3f_row0_col34\" class=\"data row0 col34\" >0.00%</td>\n",
       "      <td id=\"T_4ad3f_row0_col35\" class=\"data row0 col35\" >1.04%</td>\n",
       "      <td id=\"T_4ad3f_row0_col36\" class=\"data row0 col36\" >0.00%</td>\n",
       "      <td id=\"T_4ad3f_row0_col37\" class=\"data row0 col37\" >29.53%</td>\n",
       "      <td id=\"T_4ad3f_row0_col38\" class=\"data row0 col38\" >0.01%</td>\n",
       "      <td id=\"T_4ad3f_row0_col39\" class=\"data row0 col39\" >0.01%</td>\n",
       "      <td id=\"T_4ad3f_row0_col40\" class=\"data row0 col40\" >75.08%</td>\n",
       "      <td id=\"T_4ad3f_row0_col41\" class=\"data row0 col41\" >0.01%</td>\n",
       "      <td id=\"T_4ad3f_row0_col42\" class=\"data row0 col42\" >0.01%</td>\n",
       "      <td id=\"T_4ad3f_row0_col43\" class=\"data row0 col43\" >99.93%</td>\n",
       "      <td id=\"T_4ad3f_row0_col44\" class=\"data row0 col44\" >99.93%</td>\n",
       "      <td id=\"T_4ad3f_row0_col45\" class=\"data row0 col45\" >99.94%</td>\n",
       "      <td id=\"T_4ad3f_row0_col46\" class=\"data row0 col46\" >0.02%</td>\n",
       "      <td id=\"T_4ad3f_row0_col47\" class=\"data row0 col47\" >7.85%</td>\n",
       "      <td id=\"T_4ad3f_row0_col48\" class=\"data row0 col48\" >7.85%</td>\n",
       "      <td id=\"T_4ad3f_row0_col49\" class=\"data row0 col49\" >98.44%</td>\n",
       "      <td id=\"T_4ad3f_row0_col50\" class=\"data row0 col50\" >98.44%</td>\n",
       "      <td id=\"T_4ad3f_row0_col51\" class=\"data row0 col51\" >98.44%</td>\n",
       "      <td id=\"T_4ad3f_row0_col52\" class=\"data row0 col52\" >98.44%</td>\n",
       "      <td id=\"T_4ad3f_row0_col53\" class=\"data row0 col53\" >98.49%</td>\n",
       "      <td id=\"T_4ad3f_row0_col54\" class=\"data row0 col54\" >98.44%</td>\n",
       "      <td id=\"T_4ad3f_row0_col55\" class=\"data row0 col55\" >98.64%</td>\n",
       "      <td id=\"T_4ad3f_row0_col56\" class=\"data row0 col56\" >98.45%</td>\n",
       "      <td id=\"T_4ad3f_row0_col57\" class=\"data row0 col57\" >98.45%</td>\n",
       "      <td id=\"T_4ad3f_row0_col58\" class=\"data row0 col58\" >98.45%</td>\n",
       "      <td id=\"T_4ad3f_row0_col59\" class=\"data row0 col59\" >98.45%</td>\n",
       "      <td id=\"T_4ad3f_row0_col60\" class=\"data row0 col60\" >7.86%</td>\n",
       "      <td id=\"T_4ad3f_row0_col61\" class=\"data row0 col61\" >98.45%</td>\n",
       "      <td id=\"T_4ad3f_row0_col62\" class=\"data row0 col62\" >98.45%</td>\n",
       "      <td id=\"T_4ad3f_row0_col63\" class=\"data row0 col63\" >98.45%</td>\n",
       "      <td id=\"T_4ad3f_row0_col64\" class=\"data row0 col64\" >0.03%</td>\n",
       "    </tr>\n",
       "  </tbody>\n",
       "</table>\n"
      ],
      "text/plain": [
       "<pandas.io.formats.style.Styler at 0x7fc5c7a9d7e0>"
      ]
     },
     "execution_count": 37,
     "metadata": {},
     "output_type": "execute_result"
    }
   ],
   "source": [
    "def calculate_missing_values(df):\n",
    "    missing_counts = df.select([count(when(col(c).isNull(), c)).alias(c) for c in df.columns]).toPandas()\n",
    "    missing_percentages = (missing_counts / df.count()) * 100\n",
    "    styled_output = missing_percentages.style.format(\"{:.2f}%\").background_gradient(cmap='Reds', axis=1)\n",
    "    return styled_output\n",
    "\n",
    "calculate_missing_values(df)"
   ]
  },
  {
   "cell_type": "markdown",
   "metadata": {
    "id": "Uuw9SaV1ZkQO"
   },
   "source": [
    "#### Drop columns where it is missing more than 25% of data"
   ]
  },
  {
   "cell_type": "code",
   "execution_count": 38,
   "metadata": {
    "id": "Y3k0I-TdZKaO"
   },
   "outputs": [],
   "source": [
    "# Threshold for dropping columns\n",
    "threshold = 0.25\n",
    "for col in df.columns:\n",
    "    missing_percentage = df.filter(df[col].isNull() | isnan(df[col])).count() / df.count()\n",
    "    if missing_percentage > threshold:\n",
    "        df = df.drop(col)"
   ]
  },
  {
   "cell_type": "code",
   "execution_count": 39,
   "metadata": {
    "id": "Hsk6dFElWFnf"
   },
   "outputs": [],
   "source": [
    "#calculate_missing_values(df)"
   ]
  },
  {
   "cell_type": "markdown",
   "metadata": {
    "id": "MWKFWu4pgsue"
   },
   "source": [
    "#### Drop remaining rows which consists of missing values"
   ]
  },
  {
   "cell_type": "code",
   "execution_count": 40,
   "metadata": {
    "colab": {
     "base_uri": "https://localhost:8080/"
    },
    "id": "cIcWvnePb_jm",
    "outputId": "26730586-cd56-432b-d615-7c23a7de8cc4"
   },
   "outputs": [
    {
     "name": "stdout",
     "output_type": "stream",
     "text": [
      "Number of rows:  779489\n",
      "Number of columns:  44\n"
     ]
    }
   ],
   "source": [
    "df = df.dropna()\n",
    "print('Number of rows: ', df.count())\n",
    "print('Number of columns: ', len(df.columns))"
   ]
  },
  {
   "cell_type": "markdown",
   "metadata": {
    "id": "3mV-4Z39kVoY"
   },
   "source": [
    "#### Convert date columns to date"
   ]
  },
  {
   "cell_type": "code",
   "execution_count": 42,
   "metadata": {
    "id": "CjkcfjIFg6sH"
   },
   "outputs": [],
   "source": [
    "date_columns = ['issue_d', 'last_pymnt_d', 'earliest_cr_line', 'last_credit_pull_d']\n",
    "date_format = \"dd-MM-yyyy\"\n",
    "\n",
    "for col_name in date_columns:\n",
    "    # Convert column to date type\n",
    "    df = df.withColumn(col_name, to_date(df[col_name], date_format))\n",
    "\n",
    "    # Extract the components of the date\n",
    "    df = df.withColumn(f\"{col_name}_day\", dayofmonth(df[col_name]))\n",
    "    df = df.withColumn(f\"{col_name}_month\", month(df[col_name]))\n",
    "    df = df.withColumn(f\"{col_name}_year\", year(df[col_name]))"
   ]
  },
  {
   "cell_type": "code",
   "execution_count": 43,
   "metadata": {
    "id": "FIqhjYgS001P"
   },
   "outputs": [],
   "source": [
    "# Drop date column\n",
    "df = df.drop(*date_columns)"
   ]
  },
  {
   "cell_type": "code",
   "execution_count": 44,
   "metadata": {
    "colab": {
     "base_uri": "https://localhost:8080/"
    },
    "id": "zdqgUYv1lXiz",
    "outputId": "f70d25e4-e72c-4426-f7ce-564d156a2cd6"
   },
   "outputs": [
    {
     "name": "stdout",
     "output_type": "stream",
     "text": [
      "root\n",
      " |-- loan_amnt: integer (nullable = true)\n",
      " |-- funded_amnt: integer (nullable = true)\n",
      " |-- funded_amnt_inv: double (nullable = true)\n",
      " |-- term: string (nullable = true)\n",
      " |-- int_rate: double (nullable = true)\n",
      " |-- installment: double (nullable = true)\n",
      " |-- grade: string (nullable = true)\n",
      " |-- sub_grade: string (nullable = true)\n",
      " |-- home_ownership: string (nullable = true)\n",
      " |-- annual_inc: string (nullable = true)\n",
      " |-- verification_status: string (nullable = true)\n",
      " |-- pymnt_plan: string (nullable = true)\n",
      " |-- purpose: string (nullable = true)\n",
      " |-- dti: string (nullable = true)\n",
      " |-- delinq_2yrs: string (nullable = true)\n",
      " |-- inq_last_6mths: string (nullable = true)\n",
      " |-- open_acc: string (nullable = true)\n",
      " |-- pub_rec: string (nullable = true)\n",
      " |-- revol_bal: string (nullable = true)\n",
      " |-- revol_util: string (nullable = true)\n",
      " |-- total_acc: string (nullable = true)\n",
      " |-- initial_list_status: string (nullable = true)\n",
      " |-- out_prncp: string (nullable = true)\n",
      " |-- out_prncp_inv: string (nullable = true)\n",
      " |-- total_pymnt: string (nullable = true)\n",
      " |-- total_pymnt_inv: string (nullable = true)\n",
      " |-- total_rec_prncp: string (nullable = true)\n",
      " |-- total_rec_int: string (nullable = true)\n",
      " |-- total_rec_late_fee: string (nullable = true)\n",
      " |-- recoveries: string (nullable = true)\n",
      " |-- collection_recovery_fee: string (nullable = true)\n",
      " |-- last_pymnt_amnt: string (nullable = true)\n",
      " |-- collections_12_mths_ex_med: string (nullable = true)\n",
      " |-- policy_code: string (nullable = true)\n",
      " |-- application_type: string (nullable = true)\n",
      " |-- acc_now_delinq: string (nullable = true)\n",
      " |-- tot_coll_amt: string (nullable = true)\n",
      " |-- tot_cur_bal: string (nullable = true)\n",
      " |-- total_rev_hi_lim: string (nullable = true)\n",
      " |-- default_ind: integer (nullable = true)\n",
      " |-- issue_d_day: integer (nullable = true)\n",
      " |-- issue_d_month: integer (nullable = true)\n",
      " |-- issue_d_year: integer (nullable = true)\n",
      " |-- last_pymnt_d_day: integer (nullable = true)\n",
      " |-- last_pymnt_d_month: integer (nullable = true)\n",
      " |-- last_pymnt_d_year: integer (nullable = true)\n",
      " |-- earliest_cr_line_day: integer (nullable = true)\n",
      " |-- earliest_cr_line_month: integer (nullable = true)\n",
      " |-- earliest_cr_line_year: integer (nullable = true)\n",
      " |-- last_credit_pull_d_day: integer (nullable = true)\n",
      " |-- last_credit_pull_d_month: integer (nullable = true)\n",
      " |-- last_credit_pull_d_year: integer (nullable = true)\n",
      "\n"
     ]
    }
   ],
   "source": [
    "df.printSchema()"
   ]
  },
  {
   "cell_type": "markdown",
   "metadata": {
    "id": "6QA-11aqptxE"
   },
   "source": [
    "#### Encode categorical columns using String Index and OneHotEncoder. StringIndex is used to assign a unique value to each categorical column and the One hot encoder transform the values into a binary vector. I used a Pipeline to automate the the encoding process. Then I use Vector assembler to combine all my features into a single vector"
   ]
  },
  {
   "cell_type": "code",
   "execution_count": 45,
   "metadata": {
    "id": "OTFQ4JIxldHl"
   },
   "outputs": [],
   "source": [
    "# Get numerical column names\n",
    "numerical_columns = [column[0] for column in df.dtypes if column[1] in ['int', 'double']]\n",
    "\n",
    "# Remove 'label_ind' from numerical_columns\n",
    "if 'label_ind' in numerical_columns:\n",
    "    numerical_columns.remove('label_ind')\n",
    "\n",
    "# Get categorical columns\n",
    "categorical_columns = [column[0] for column in df.dtypes if column[1] == 'string']\n",
    "\n",
    "indexers = [StringIndexer(inputCol=column, outputCol=column+\"_index\", handleInvalid=\"keep\") for column in categorical_columns]\n",
    "\n",
    "encoders = [OneHotEncoder(inputCol=column+\"_index\", outputCol=column+\"_vec\") for column in categorical_columns]\n",
    "\n",
    "# Add numerical columns directly to feature vector\n",
    "assembler_input = [encoder.getOutputCol() for encoder in encoders] + numerical_columns\n",
    "\n",
    "# Use VectorAssembler to combine all the OneHotEncoded and numerical columns into one vector column\n",
    "assembler = VectorAssembler(inputCols=assembler_input, outputCol=\"features\")\n",
    "\n",
    "# Set up the pipeline\n",
    "pipeline = Pipeline(stages=indexers + encoders + [assembler])\n",
    "\n",
    "# Fit the pipeline to your data\n",
    "model = pipeline.fit(df)\n",
    "\n",
    "# Transform your data\n",
    "df_transformed = model.transform(df)\n"
   ]
  },
  {
   "cell_type": "code",
   "execution_count": 46,
   "metadata": {
    "id": "XN1y3fnraHLX"
   },
   "outputs": [],
   "source": [
    "df_transformed = df_transformed.select(\"default_ind\", \"features\")"
   ]
  },
  {
   "cell_type": "markdown",
   "metadata": {
    "id": "ys3d5ijS-48V"
   },
   "source": [
    "#### Using stratified sampling, split the dataframe into training and testing sets"
   ]
  },
  {
   "cell_type": "code",
   "execution_count": 47,
   "metadata": {
    "id": "1WnETjeE8dh4"
   },
   "outputs": [],
   "source": [
    "label = \"default_ind\"\n",
    "\n",
    "# Had to set a sample size from the df as the training time was too long, causing my spark connection to keep crashing\n",
    "sample_ratio = 0.2\n",
    "\n",
    "# Do stratified sampling for train-test split\n",
    "fractions = df_transformed.select(label).distinct().withColumn(\"fraction\", F.lit(sample_ratio)).rdd.collectAsMap()\n",
    "train_df = df_transformed.sampleBy(label, fractions, seed=42)\n",
    "test_df = df_transformed.subtract(train_df)"
   ]
  },
  {
   "cell_type": "markdown",
   "metadata": {
    "id": "LtRBRsfnAL0g"
   },
   "source": [
    "#### Logistic Regression for training"
   ]
  },
  {
   "cell_type": "code",
   "execution_count": 48,
   "metadata": {
    "id": "J6Gd6cWFAHdl"
   },
   "outputs": [],
   "source": [
    "# Define Logistic Regression model\n",
    "lr = LogisticRegression(featuresCol='features', labelCol=label)"
   ]
  },
  {
   "cell_type": "code",
   "execution_count": 49,
   "metadata": {
    "id": "ASa5SVKFBqEU"
   },
   "outputs": [],
   "source": [
    "# Fit the model to the data\n",
    "lr_model = lr.fit(train_df)"
   ]
  },
  {
   "cell_type": "code",
   "execution_count": 50,
   "metadata": {
    "id": "FF6MletYByhU"
   },
   "outputs": [],
   "source": [
    "# Make predictions on test data\n",
    "lr_predictions = lr_model.transform(test_df)"
   ]
  },
  {
   "cell_type": "markdown",
   "metadata": {
    "id": "E-RdcClbnxsk"
   },
   "source": [
    "#### Evaluate results"
   ]
  },
  {
   "cell_type": "code",
   "execution_count": 56,
   "metadata": {
    "colab": {
     "base_uri": "https://localhost:8080/"
    },
    "id": "JzwZp6QUEopP",
    "outputId": "0af5d5c4-cb82-4276-a158-3b08d47afbe0"
   },
   "outputs": [
    {
     "name": "stdout",
     "output_type": "stream",
     "text": [
      "Accuracy:  0.9746453883643107\n",
      "Precision:  0.9728561652819363\n",
      "Recall:  0.9746453883643107\n",
      "F1 score:  0.9714755756779909\n"
     ]
    }
   ],
   "source": [
    "multi_evaluator = MulticlassClassificationEvaluator(labelCol=\"default_ind\")\n",
    "\n",
    "# Compute metrics\n",
    "accuracy = multi_evaluator.evaluate(lr_predictions, {multi_evaluator.metricName: \"accuracy\"})\n",
    "precision = multi_evaluator.evaluate(lr_predictions, {multi_evaluator.metricName: \"weightedPrecision\"})\n",
    "recall = multi_evaluator.evaluate(lr_predictions, {multi_evaluator.metricName: \"weightedRecall\"})\n",
    "f1 = multi_evaluator.evaluate(lr_predictions, {multi_evaluator.metricName: \"f1\"})\n",
    "\n",
    "print(\"Accuracy: \", accuracy)\n",
    "print(\"Precision: \", precision)\n",
    "print(\"Recall: \", recall)\n",
    "print(\"F1 score: \", f1)"
   ]
  },
  {
   "cell_type": "markdown",
   "metadata": {
    "id": "iyci6Xed6iLV"
   },
   "source": [
    "#### Save the pipeline for future use"
   ]
  },
  {
   "cell_type": "code",
   "execution_count": 57,
   "metadata": {
    "id": "2eaFKVp0n69X"
   },
   "outputs": [],
   "source": [
    "model.save('lr_Pipeline')"
   ]
  }
 ],
 "metadata": {
  "accelerator": "GPU",
  "colab": {
   "gpuType": "T4",
   "provenance": []
  },
  "kernelspec": {
   "display_name": "Python 3 (ipykernel)",
   "language": "python",
   "name": "python3"
  },
  "language_info": {
   "codemirror_mode": {
    "name": "ipython",
    "version": 3
   },
   "file_extension": ".py",
   "mimetype": "text/x-python",
   "name": "python",
   "nbconvert_exporter": "python",
   "pygments_lexer": "ipython3",
   "version": "3.10.9"
  }
 },
 "nbformat": 4,
 "nbformat_minor": 1
}
